{
 "cells": [
  {
   "cell_type": "markdown",
   "id": "a0e55c09",
   "metadata": {},
   "source": [
    "# Temporal Difference 학습 구현"
   ]
  },
  {
   "cell_type": "markdown",
   "id": "9c94009f",
   "metadata": {},
   "source": [
    "## 라이브러리 import와 클래스\n",
    "라이브러리 import, Grid World와 Agent 클래스 구현까지의 과정은 Monte Carlo Method를 구현할 때와 동일하므로 재사용 한다."
   ]
  },
  {
   "cell_type": "code",
   "execution_count": 1,
   "id": "b274acb9",
   "metadata": {},
   "outputs": [],
   "source": [
    "import random"
   ]
  },
  {
   "cell_type": "code",
   "execution_count": 3,
   "id": "e5a57c02",
   "metadata": {},
   "outputs": [],
   "source": [
    "class GridWorld():\n",
    "    def __init__(self):\n",
    "        self.x = 0\n",
    "        self.y = 0\n",
    "    \n",
    "    def step(self, a):\n",
    "        if a == 0:\n",
    "            self.move_right()\n",
    "        elif a == 1:\n",
    "            self.move_left()\n",
    "        elif a == 2:\n",
    "            self.move_up()\n",
    "        elif a == 3:\n",
    "            self.move_down()\n",
    "        \n",
    "        reward = -1\n",
    "        done = self.is_done()\n",
    "        return (self.x, self.y), reward, done\n",
    "\n",
    "    def move_right(self):\n",
    "        self.y += 1\n",
    "        if (self.y > 3):\n",
    "            self.y = 3\n",
    "        \n",
    "    def move_left(self):\n",
    "        self.y -= 1\n",
    "        if (self.y < 0):\n",
    "            self.y = 0\n",
    "    \n",
    "    def move_up(self):\n",
    "        self.x -= 1\n",
    "        if self.x < 0:\n",
    "            self.x = 0\n",
    "            \n",
    "    def move_down(self):\n",
    "        self.x += 1\n",
    "        if(self.x > 3):\n",
    "            self.x = 3\n",
    "    \n",
    "    def is_done(self):\n",
    "        if self.x == 3 and self.y == 3:\n",
    "            return True\n",
    "        else:\n",
    "            return False\n",
    "        \n",
    "    def get_state(self):\n",
    "        return (self.x, self.y)\n",
    "    \n",
    "    def reset(self):\n",
    "        self.x = 0\n",
    "        self.y = 0\n",
    "        return (self.x, self.y)"
   ]
  },
  {
   "cell_type": "code",
   "execution_count": 2,
   "id": "f1411313",
   "metadata": {},
   "outputs": [],
   "source": [
    "class Agent():\n",
    "    def __init__(self):\n",
    "        pass\n",
    "    \n",
    "    def select_action(self):\n",
    "        coin = random.random()\n",
    "        if coin < 0.25:\n",
    "            action = 0\n",
    "        elif coin < 0.5:\n",
    "            action = 1\n",
    "        elif coin < 0.75:\n",
    "            action = 2\n",
    "        else:\n",
    "            action = 3\n",
    "        return action"
   ]
  },
  {
   "cell_type": "markdown",
   "id": "22da9c93",
   "metadata": {},
   "source": [
    "## Main function"
   ]
  },
  {
   "cell_type": "code",
   "execution_count": 8,
   "id": "e090f191",
   "metadata": {},
   "outputs": [],
   "source": [
    "def main():\n",
    "    env = GridWorld()\n",
    "    agent = Agent()\n",
    "    data = [[0,0,0,0],[0,0,0,0],[0,0,0,0],[0,0,0,0]] # 테이블 초기화\n",
    "    gamma = 1.0\n",
    "    alpha = 0.01 # Grid World에 비해 큰 값을 사용\n",
    "    \n",
    "    for k in range(80000): # 총 5만번의 에피소드 진행\n",
    "        done = False\n",
    "        while not done:\n",
    "            x, y = env.get_state()\n",
    "            action = agent.select_action()\n",
    "            (x_prime, y_prime), reward, done = env.step(action)\n",
    "            x_prime, y_prime = env.get_state()\n",
    "            \n",
    "            # 한번의 step이 끝나자마자 바로 테이블 데이터를 업데이트\n",
    "            data[x][y] = data[x][y] + alpha * (reward + gamma * data[x_prime][y_prime] - data[x][y])\n",
    "        env.reset()\n",
    "            \n",
    "    # 학습이 끝난 뒤 데이터 출력\n",
    "    for row in data:\n",
    "        print(row)"
   ]
  },
  {
   "cell_type": "code",
   "execution_count": 9,
   "id": "6e670a4c",
   "metadata": {},
   "outputs": [
    {
     "name": "stdout",
     "output_type": "stream",
     "text": [
      "[-58.252691304926216, -56.00881663761438, -52.65830349145866, -49.494757198330234]\n",
      "[-56.3742907810427, -53.65965150141889, -47.18332933909267, -42.320454454860865]\n",
      "[-53.361946680622886, -48.30432764016661, -38.406860060836706, -27.052844132953965]\n",
      "[-50.65885812534927, -44.74509380956842, -28.783641755713244, 0]\n"
     ]
    }
   ],
   "source": [
    "main()"
   ]
  },
  {
   "cell_type": "code",
   "execution_count": null,
   "id": "99041548",
   "metadata": {},
   "outputs": [],
   "source": []
  }
 ],
 "metadata": {
  "kernelspec": {
   "display_name": "Python 3 (ipykernel)",
   "language": "python",
   "name": "python3"
  },
  "language_info": {
   "codemirror_mode": {
    "name": "ipython",
    "version": 3
   },
   "file_extension": ".py",
   "mimetype": "text/x-python",
   "name": "python",
   "nbconvert_exporter": "python",
   "pygments_lexer": "ipython3",
   "version": "3.9.7"
  }
 },
 "nbformat": 4,
 "nbformat_minor": 5
}
