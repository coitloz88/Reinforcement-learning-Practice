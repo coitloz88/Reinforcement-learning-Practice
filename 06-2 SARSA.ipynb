{
 "cells": [
  {
   "cell_type": "markdown",
   "id": "509ff907",
   "metadata": {},
   "source": [
    "# SARSA 구현\n",
    "환경이 바뀐 것이 아니라 에이전트의 업데이트 방식이 바뀐 것이기 때문에 06-1에서 사용한 GridWorld의 코드를 그대로 사용한다."
   ]
  },
  {
   "cell_type": "markdown",
   "id": "159b94de",
   "metadata": {},
   "source": [
    "## 라이브러리 import 및 GridWorld 클래스"
   ]
  },
  {
   "cell_type": "code",
   "execution_count": 1,
   "id": "a6e69e24",
   "metadata": {},
   "outputs": [],
   "source": [
    "import random\n",
    "import numpy as np # q(s,a)를 numpy array 형태로 관리하기 위함"
   ]
  },
  {
   "cell_type": "code",
   "execution_count": 2,
   "id": "ddf45cdd",
   "metadata": {},
   "outputs": [],
   "source": [
    "class GridWorld():\n",
    "    def __init__(self):\n",
    "        self.x = 0\n",
    "        self.y = 0\n",
    "    \n",
    "    def step(self, a):\n",
    "        # 0번 액션: 왼쪽, 1번 액션: 위, 2번 액션: 오른쪽, 3번 액션: 아래쪽\n",
    "        if a == 0:\n",
    "            self.move_left()\n",
    "        elif a == 1:\n",
    "            self.move_up()\n",
    "        elif a == 2:\n",
    "            self.move_right()\n",
    "        elif a == 3:\n",
    "            self.move_down()\n",
    "        \n",
    "        reward = -1 # 보상은 -1로 고정\n",
    "        done = self.is_done()\n",
    "        return (self.x, self.y), reward, done\n",
    "    \n",
    "    def move_right(self):\n",
    "        if self.y == 1 and self.x in [0, 1, 2]:\n",
    "            pass\n",
    "        elif self.y == 3 and self.x in [2, 3, 4]:\n",
    "            pass\n",
    "        elif self.y == 6:\n",
    "            pass\n",
    "        else:\n",
    "            self.y += 1\n",
    "        \n",
    "    def move_left(self):\n",
    "        if self.y == 0:\n",
    "            pass\n",
    "        elif self.y == 3 and self.x in [0, 1, 2]:\n",
    "            pass\n",
    "        elif self.y == 5 and self.x in [2, 3, 4]:\n",
    "            pass\n",
    "        else:\n",
    "            self.y -= 1\n",
    "    \n",
    "    def move_up(self):\n",
    "        if self.x == 0:\n",
    "            pass\n",
    "        elif self.x == 3 and self.y == 2:\n",
    "            pass\n",
    "        else:\n",
    "            self.x -= 1\n",
    "            \n",
    "    def move_down(self):\n",
    "        if self.x == 4:\n",
    "            pass\n",
    "        elif self.x == 1 and self.y == 4:\n",
    "            pass\n",
    "        else:\n",
    "            self.x += 1\n",
    "    \n",
    "    def is_done(self):\n",
    "        if self.x == 4 and self.y == 6: # 목표 지점인 (4, 6)에 도달\n",
    "            return True\n",
    "        else:\n",
    "            return False\n",
    "    \n",
    "    def reset(self):\n",
    "        self.x = 0\n",
    "        self.y = 0\n",
    "        return (self.x, self.y)"
   ]
  },
  {
   "cell_type": "markdown",
   "id": "c91b4e91",
   "metadata": {},
   "source": [
    "## QAgent 클래스\n",
    "QAgent 클래스 역시 나머지 코드는 MC에서 짰던 코드와 같지만, `update_table` 함수가 조금 바뀌었다.\n",
    "MC에서의 `update_table`은 에이전트가 경험한 history 전체를 인자로 받았지만, 이제는 **transition**을 인풋으로 받는다. 상태 $s$에서 $a$를 행해서 보상 $r$을 받고 상태 $s'$에 도달했다면, $(s,a,r,s')$가 하나의 트랜지션이다."
   ]
  },
  {
   "cell_type": "code",
   "execution_count": 9,
   "id": "25a85bab",
   "metadata": {},
   "outputs": [],
   "source": [
    "class QAgent():\n",
    "    def __init__(self):\n",
    "        self.q_table = np.zeros((5, 7, 4)) # q밸류를 저장하는 변수. 모두 0으로 초기화\n",
    "        self.eps = 0.9\n",
    "        self.alpha = 0.01\n",
    "    \n",
    "    def select_action(self, s):\n",
    "        # eps-greedy로 액션을 선택\n",
    "        x, y = s\n",
    "        coin = random.random()\n",
    "        if coin < self.eps:\n",
    "            action = random.randint(0, 3)\n",
    "        else:\n",
    "            action_val = self.q_table[x, y,:]\n",
    "            action = np.argmax(action_val)\n",
    "        return action\n",
    "    \n",
    "    def update_table(self, transition):\n",
    "        s, a, r, s_prime = transition\n",
    "        x, y = s\n",
    "        next_x, next_y = s_prime\n",
    "        a_prime = self.select_action(s_prime) # s'에서 선택할 액션 (실제로 취할 액션이 아님)\n",
    "        # SARSA 업데이트 식을 이용\n",
    "        self.q_table[x, y, a] = self.q_table[x, y, a] + 0.1 * (r - self.q_table[next_x, next_y, a_prime] - self.q_table[x, y, a])\n",
    "            \n",
    "    def anneal_eps(self):\n",
    "        self.eps -= 0.03\n",
    "        self.eps = max(self.eps, 0.1)\n",
    "    \n",
    "    def show_table(self):\n",
    "        # 학습이 각 위치에서 어느 액션의 q 값이 가장 높았는지 보여줌\n",
    "        q_list = self.q_table.tolist()\n",
    "        data = np.zeros((5, 7))\n",
    "        for row_idx in range(len(q_list)):\n",
    "            row = q_list[row_idx]\n",
    "            for col_idx in range(len(row)):\n",
    "                col = row[col_idx]\n",
    "                action = np.argmax(col)\n",
    "                data[row_idx, col_idx] = action\n",
    "        print(data)"
   ]
  },
  {
   "cell_type": "code",
   "execution_count": 10,
   "id": "bc1577f1",
   "metadata": {},
   "outputs": [],
   "source": [
    "def main():\n",
    "    env = GridWorld()\n",
    "    agent = QAgent()\n",
    "    \n",
    "    for n_epi in range(1000): # 총 1000 에피소드 동안 학습\n",
    "        done = False\n",
    "        \n",
    "        s = env.reset()\n",
    "        while not done: # 한 Q에피소드가 끝날 때까지\n",
    "            a = agent.select_action(s)\n",
    "            s_prime, r, done = env.step(a)\n",
    "            agent.update_table((s, a, r, s_prime))\n",
    "            s = s_prime\n",
    "        agent.anneal_eps()\n",
    "        \n",
    "    agent.show_table() # 학습이 끝난 결과를 출력"
   ]
  },
  {
   "cell_type": "code",
   "execution_count": 12,
   "id": "fdae6e44",
   "metadata": {},
   "outputs": [
    {
     "name": "stdout",
     "output_type": "stream",
     "text": [
      "[[1. 3. 0. 2. 0. 1. 3.]\n",
      " [3. 1. 0. 0. 2. 1. 2.]\n",
      " [0. 3. 0. 0. 0. 0. 3.]\n",
      " [2. 3. 2. 2. 0. 3. 2.]\n",
      " [2. 2. 3. 0. 0. 0. 0.]]\n"
     ]
    }
   ],
   "source": [
    "main()"
   ]
  },
  {
   "cell_type": "code",
   "execution_count": null,
   "id": "c36cfd7b",
   "metadata": {},
   "outputs": [],
   "source": []
  }
 ],
 "metadata": {
  "kernelspec": {
   "display_name": "Python 3 (ipykernel)",
   "language": "python",
   "name": "python3"
  },
  "language_info": {
   "codemirror_mode": {
    "name": "ipython",
    "version": 3
   },
   "file_extension": ".py",
   "mimetype": "text/x-python",
   "name": "python",
   "nbconvert_exporter": "python",
   "pygments_lexer": "ipython3",
   "version": "3.9.7"
  }
 },
 "nbformat": 4,
 "nbformat_minor": 5
}
