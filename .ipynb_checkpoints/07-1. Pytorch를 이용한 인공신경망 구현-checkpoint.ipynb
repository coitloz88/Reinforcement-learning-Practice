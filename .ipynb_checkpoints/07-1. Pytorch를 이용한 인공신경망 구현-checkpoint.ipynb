{
 "cells": [
  {
   "cell_type": "markdown",
   "id": "71ef1df1",
   "metadata": {},
   "source": [
    "# 이론적 배경\n",
    "## 신경망 학습: Gradient Descent\n",
    "임의로 정한 함수 $f$가 있고, 이 함수의 파라미터를 $\\omega$라고 할때, 함수를 $f_{\\omega}$ 형태로 표현할 수 있다.\n",
    "또한, n개의 데이터는 (input, answer)의 형태로 이루어져있다.\n",
    "$f_{\\omega}$는 처음에는 데이터와 무관한 함수이지만 점점 데이터가 주는 정답과 $f_{\\omega}$의 아웃풋 사이 차이를 최소화하도록 $\\omega$가 업데이트된다. 조금씩 업데이트를 반복하며 $f_{\\omega}$는 점점 데이터와 가깝게 지나가는 함수가 된다. 이러한 학습 과정에서 그라디언트 기반 방법을 사용한다.\n",
    "\n",
    "# Pytorch를 활용한 신경망 학습 구현\n",
    "실제 뉴럴넷은 함수가 매우 복잡하므로 직접 일일이 편미분을 구하기 힘들기 때문에, `tensorflow`나 `pytorch`의 **자동 미분** 라이브러리를 사용한다. 해당 라이브러리는 **역전파(Back propagation)** 알고리즘을 통해 복잡한 함수의 그라디언트를 매우 효율적이고 빠르게 계산한다.\n",
    "역전파 알고리즘은 N개의 파라미터가 있을 때 N번 편미분하지 않고, 뒤에서부터 중간중간 미분 값을 캐싱했다가 재사용하여 효율적으로 그라디언트를 계산하는 방법론이다.\n",
    "\n",
    "이제 `pytorch`로 신경망 학습을 구현해보자. 데이터를 생성해내는 함수 $F(x)$는 다음과 같다.\n",
    "<center>\n",
    "    $F(x) = cos(1.5 \\pi * x) + x + \\epsilon, \\qquad \\epsilon \\sim U(-0.2, 0.2)$\n",
    "</center>\n",
    "단, 해당 함수는 실제로는 모르는 함수이며, 해당 함수가 만들어내는 데이터만 관찰 가능하다. 즉, 실제 세계와 마찬가지로 데이터를 만들어내는 본질적인 함수는 알 수 없지만 그것을 근사하는 것이 최종적인 목적이다.\n",
    "\n",
    "피팅할 뉴럴 네트워크는 `Input → Hidden Layer1 → Hidden Layer2 → Hidden Layer3 → Output`과 같은 임의의 뉴럴넷 $f_{\\omega}$를 사용한다. 각 레이어에는 $ReLU$라는 **활성 함수(Activation function)**가 포함되어 있다."
   ]
  },
  {
   "cell_type": "markdown",
   "id": "0280866e",
   "metadata": {},
   "source": [
    " ## 라이브러리 import"
   ]
  },
  {
   "cell_type": "code",
   "execution_count": 1,
   "id": "d4dbaae2",
   "metadata": {},
   "outputs": [
    {
     "ename": "ModuleNotFoundError",
     "evalue": "No module named 'torch'",
     "output_type": "error",
     "traceback": [
      "\u001b[1;31m---------------------------------------------------------------------------\u001b[0m",
      "\u001b[1;31mModuleNotFoundError\u001b[0m                       Traceback (most recent call last)",
      "\u001b[1;32m~\\AppData\\Local\\Temp/ipykernel_13848/157837346.py\u001b[0m in \u001b[0;36m<module>\u001b[1;34m\u001b[0m\n\u001b[1;32m----> 1\u001b[1;33m \u001b[1;32mimport\u001b[0m \u001b[0mtorch\u001b[0m\u001b[1;33m\u001b[0m\u001b[1;33m\u001b[0m\u001b[0m\n\u001b[0m\u001b[0;32m      2\u001b[0m \u001b[1;32mimport\u001b[0m \u001b[0mtorch\u001b[0m\u001b[1;33m.\u001b[0m\u001b[0mnn\u001b[0m \u001b[1;32mas\u001b[0m \u001b[0mnn\u001b[0m\u001b[1;33m\u001b[0m\u001b[1;33m\u001b[0m\u001b[0m\n\u001b[0;32m      3\u001b[0m \u001b[1;32mimport\u001b[0m \u001b[0mtorch\u001b[0m\u001b[1;33m.\u001b[0m\u001b[0mnn\u001b[0m\u001b[1;33m.\u001b[0m\u001b[0mfunctional\u001b[0m \u001b[1;32mas\u001b[0m \u001b[0mF\u001b[0m\u001b[1;33m\u001b[0m\u001b[1;33m\u001b[0m\u001b[0m\n\u001b[0;32m      4\u001b[0m \u001b[1;32mimport\u001b[0m \u001b[0mtorch\u001b[0m\u001b[1;33m.\u001b[0m\u001b[0moptim\u001b[0m \u001b[1;32mas\u001b[0m \u001b[0moptim\u001b[0m\u001b[1;33m\u001b[0m\u001b[1;33m\u001b[0m\u001b[0m\n",
      "\u001b[1;31mModuleNotFoundError\u001b[0m: No module named 'torch'"
     ]
    }
   ],
   "source": [
    "import torch\n",
    "import torch.nn as nn\n",
    "import torch.nn.functional as F\n",
    "import torch.optim as optim"
   ]
  },
  {
   "cell_type": "code",
   "execution_count": null,
   "id": "b688ce5d",
   "metadata": {},
   "outputs": [],
   "source": []
  }
 ],
 "metadata": {
  "kernelspec": {
   "display_name": "Python 3 (ipykernel)",
   "language": "python",
   "name": "python3"
  },
  "language_info": {
   "codemirror_mode": {
    "name": "ipython",
    "version": 3
   },
   "file_extension": ".py",
   "mimetype": "text/x-python",
   "name": "python",
   "nbconvert_exporter": "python",
   "pygments_lexer": "ipython3",
   "version": "3.9.7"
  }
 },
 "nbformat": 4,
 "nbformat_minor": 5
}
