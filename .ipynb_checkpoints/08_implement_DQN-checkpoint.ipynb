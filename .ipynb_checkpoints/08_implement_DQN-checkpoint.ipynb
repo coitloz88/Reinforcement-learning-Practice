{
 "cells": [
  {
   "cell_type": "markdown",
   "id": "59c31c46",
   "metadata": {},
   "source": [
    "# DQN 구현\n",
    "카트를 잘 밀어서 막대가 넘어지지 않도록 균형을 잡는 CartPole이라는 문제를 풀어보자.\n",
    "\n",
    "카트는 일정한 힘으로 왼쪽이나 오른쪽으로 밀 수 있기 때문에 선택 가능한 액션은 항상 2가지이고, 스텝마다 +1의 보상을 받으므로 보상을 최적화하는 것은 곧 막대를 넘어뜨리지 않고 가능한 오래도록 균형을 잡는 것이다.\n",
    "\n",
    "카트의 상태 $s$는 길이 4의 벡터로, 다음과 같다.\n",
    "<center>\n",
    "    $s = (카트의\\,위치,\\,카트의\\,속도,\\,막대의\\,속도,\\,막대의\\,각속도)$\n",
    "</center>"
   ]
  },
  {
   "cell_type": "markdown",
   "id": "394b0922",
   "metadata": {},
   "source": []
  }
 ],
 "metadata": {
  "kernelspec": {
   "display_name": "Python 3 (ipykernel)",
   "language": "python",
   "name": "python3"
  },
  "language_info": {
   "codemirror_mode": {
    "name": "ipython",
    "version": 3
   },
   "file_extension": ".py",
   "mimetype": "text/x-python",
   "name": "python",
   "nbconvert_exporter": "python",
   "pygments_lexer": "ipython3",
   "version": "3.9.7"
  }
 },
 "nbformat": 4,
 "nbformat_minor": 5
}
