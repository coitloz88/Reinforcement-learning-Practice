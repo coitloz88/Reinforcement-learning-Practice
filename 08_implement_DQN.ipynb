{
  "cells": [
    {
      "cell_type": "markdown",
      "metadata": {
        "id": "view-in-github",
        "colab_type": "text"
      },
      "source": [
        "<a href=\"https://colab.research.google.com/github/coitloz88/Reinforcement-learning-Practice/blob/master/08_implement_DQN.ipynb\" target=\"_parent\"><img src=\"https://colab.research.google.com/assets/colab-badge.svg\" alt=\"Open In Colab\"/></a>"
      ]
    },
    {
      "cell_type": "markdown",
      "id": "61f767ec",
      "metadata": {
        "id": "61f767ec"
      },
      "source": [
        "# DQN 구현\n",
        "카트를 잘 밀어서 막대가 넘어지지 않도록 균형을 잡는 CartPole이라는 문제를 풀어보자.\n",
        "\n",
        "카트는 일정한 힘으로 왼쪽이나 오른쪽으로 밀 수 있기 때문에 선택 가능한 액션은 항상 2가지이고, 스텝마다 +1의 보상을 받으므로 보상을 최적화하는 것은 곧 막대를 넘어뜨리지 않고 가능한 오래도록 균형을 잡는 것이다.\n",
        "\n",
        "카트의 상태 $s$는 길이 4의 벡터로, 다음과 같다.\n",
        "<center>\n",
        "    $s = (카트의\\,위치,\\,카트의\\,속도,\\,막대의\\,속도,\\,막대의\\,각속도)$\n",
        "</center>"
      ]
    },
    {
      "cell_type": "markdown",
      "id": "f3ef5521",
      "metadata": {
        "id": "f3ef5521"
      },
      "source": [
        "## 라이브러리 import\n",
        "`collections` 라이브러리 안의 deque라는 자료구조를 통해 선입 선출(first-in-first-out)의 특성을 갖는 리플레이 버퍼를 쉽게 구현 가능하다."
      ]
    },
    {
      "cell_type": "code",
      "execution_count": 1,
      "id": "cc1fb879",
      "metadata": {
        "id": "cc1fb879"
      },
      "outputs": [],
      "source": [
        "import gym\n",
        "import collections\n",
        "import random\n",
        "\n",
        "import torch\n",
        "import torch.nn as nn\n",
        "import torch.nn.functional as F\n",
        "import torch.optim as optim"
      ]
    },
    {
      "cell_type": "markdown",
      "source": [
        "## 하이퍼 파라미터 정의"
      ],
      "metadata": {
        "id": "DkeE-fr7yvxR"
      },
      "id": "DkeE-fr7yvxR"
    },
    {
      "cell_type": "code",
      "execution_count": 2,
      "id": "05e9c7ab",
      "metadata": {
        "id": "05e9c7ab"
      },
      "outputs": [],
      "source": [
        "# Hyperparameters\n",
        "learning_rate = 0.0005\n",
        "gamma = 0.98\n",
        "buffer_limit = 50000\n",
        "batch_size = 32"
      ]
    },
    {
      "cell_type": "markdown",
      "source": [
        "## 리플레이 버퍼 클래스\n",
        "\n",
        "최신 5만개의 데이터를 가지고 있다가 필요할 때마다 `batch_size`만큼의 데이터를 뽑아서 제공해준다.\n",
        "\n",
        "`put` 함수는 데이터를 버퍼에 넣어주는 역할을 수행하며, `sample` 함수는 버퍼에서 랜덤하게 32개의 데이터를 뽑아 mini-batch를 구성한다.\n",
        "\n",
        "32개의 데이터를 뽑고 나면 각 요소 별로 모아 pytorch의 텐서로 변환해준다.\n",
        "\n",
        "\n",
        "\n"
      ],
      "metadata": {
        "id": "gSRO93why-ec"
      },
      "id": "gSRO93why-ec"
    },
    {
      "cell_type": "code",
      "source": [
        "class ReplayBuffer():\n",
        "  def __init__(self):\n",
        "      self.buffer = collections.deque(maxlen = buffer_limit)\n",
        "\n",
        "  def put(self, transition):\n",
        "    self.buffer.append(transition)\n",
        "\n",
        "  def sample(self, n):\n",
        "    mini_batch = random.sample(self.buffer, n)\n",
        "    s_lst, a_lst, r_lst, s_prime_lst, done_mask_lst = [], [], [], [], []\n",
        "    \n",
        "    for transition in mini_batch:\n",
        "      s, a, r, s_prime, done_mask = transition\n",
        "      s_lst.append(s)\n",
        "      a_lst.append([a])\n",
        "      r_lst.append([r])\n",
        "      s_prime_lst.append(s_prime)\n",
        "      done_mask_lst.append([done_mask])\n",
        "\n",
        "    return torch.tensor(s_lst, dtype=torch.float), torch.tensor(a_lst), \\\n",
        "            torch.tensor(r_lst), torch.tensor(s_prime_lst, dtype=torch.float), \\\n",
        "            torch.tensor(done_mask_lst)\n",
        "            \n",
        "  def size(self):\n",
        "    return len(self.buffer)"
      ],
      "metadata": {
        "id": "qjUkMJoBy9eT"
      },
      "id": "qjUkMJoBy9eT",
      "execution_count": 3,
      "outputs": []
    },
    {
      "cell_type": "markdown",
      "source": [
        "## Q밸류 네트워크\n",
        "사용될 뉴럴넷의 구조는 다음과 같다.  \n",
        "<center>\n",
        "\n",
        "![neural network image](data:image/png;base64,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)\n",
        "\n",
        "</center>"
      ],
      "metadata": {
        "id": "OoL4Q9Ga4NNn"
      },
      "id": "OoL4Q9Ga4NNn"
    },
    {
      "cell_type": "code",
      "source": [
        "class Qnet(nn.Module):\n",
        "  def __init__(self):\n",
        "    super(Qnet, self).__init__()\n",
        "    self.fc1 = nn.Linear(4, 128)\n",
        "    self.fc2 = nn.Linear(128, 128)\n",
        "    self.fc3 = nn.Linear(128, 2)\n",
        "\n",
        "  def forward(self, x):\n",
        "    x = F.relu(self.fc1(x))\n",
        "    x = F.relu(self.fc2(x))\n",
        "    x = self.fc3(x)\n",
        "    return x\n",
        "\n",
        "  def sample_action(self, obs, epsilon):\n",
        "    out = self.forward(obs)\n",
        "    coin = random.random()\n",
        "    if coin < epsilon:\n",
        "      return random.randint(0, 1)\n",
        "    else:\n",
        "      return out.argmax().item()"
      ],
      "metadata": {
        "id": "EzO82lZg0Qjq"
      },
      "id": "EzO82lZg0Qjq",
      "execution_count": 4,
      "outputs": []
    },
    {
      "cell_type": "markdown",
      "source": [
        "## 학습 함수\n",
        "에피소드 하나가 끝날 때마다 본 함수가 호출되며, 한 번 호출될 때마다 10개의 mini-batch를 뽑아 총 10번 업데이트한다.\n",
        "각각의 for-loop 안에서는 먼저 리플레이 버퍼에서 mini-batch를 뽑고 해당 데이터를 이용하여 loss를 계산한다. loss가 계산되고 나면 `loss.backward()`를 호출하여 실제 그래디언트를 계산한다. 이후 `optimizer.step()`을 실행하면 Qnet의 파라미터 업데이트가 일어난다."
      ],
      "metadata": {
        "id": "PdgETbb17TV8"
      },
      "id": "PdgETbb17TV8"
    },
    {
      "cell_type": "code",
      "source": [
        "def train(q, q_target, memory, optimizer):\n",
        "  for i in range(10):\n",
        "    s, a, r, s_prime, done_mask = memory.sample(batch_size)\n",
        "\n",
        "    q_out = q(s)\n",
        "    q_a = q_out.gather(1, a)\n",
        "    max_q_prime = q_target(s_prime).max(1)[0].unsqueeze(1)\n",
        "    target = r + gamma * max_q_prime * done_mask\n",
        "    loss = F.smooth_l1_loss(q_a, target)\n",
        "\n",
        "    optimizer.zero_grad()\n",
        "    loss.backward() # loss에 대한 그래디언트를 계산함\n",
        "    optimizer.step()"
      ],
      "metadata": {
        "id": "jPI83wyf5Bzi"
      },
      "id": "jPI83wyf5Bzi",
      "execution_count": 5,
      "outputs": []
    },
    {
      "cell_type": "markdown",
      "source": [
        "## Main 함수"
      ],
      "metadata": {
        "id": "G15ZJhh98Jkn"
      },
      "id": "G15ZJhh98Jkn"
    },
    {
      "cell_type": "code",
      "source": [
        "def main():\n",
        "    env = gym.make('CartPole-v1')\n",
        "    q = Qnet()\n",
        "    q_target = Qnet()\n",
        "    q_target.load_state_dict(q.state_dict())\n",
        "    memory = ReplayBuffer()\n",
        "\n",
        "    print_interval = 20\n",
        "    score = 0.0  \n",
        "    optimizer = optim.Adam(q.parameters(), lr=learning_rate)\n",
        "\n",
        "    for n_epi in range(10000):\n",
        "        epsilon = max(0.01, 0.08 - 0.01*(n_epi/200)) #Linear annealing from 8% to 1%\n",
        "        s = env.reset()\n",
        "        done = False\n",
        "\n",
        "        while not done:\n",
        "            a = q.sample_action(torch.from_numpy(s).float(), epsilon)      \n",
        "            s_prime, r, done, info = env.step(a)\n",
        "            done_mask = 0.0 if done else 1.0\n",
        "            memory.put((s,a,r/100.0,s_prime, done_mask))\n",
        "            s = s_prime\n",
        "\n",
        "            score += r\n",
        "            if done:\n",
        "                break\n",
        "            \n",
        "        if memory.size()>2000:\n",
        "            train(q, q_target, memory, optimizer)\n",
        "\n",
        "        if n_epi%print_interval==0 and n_epi!=0:\n",
        "            q_target.load_state_dict(q.state_dict())\n",
        "            print(\"n_episode: {}, score: {:.1f}, n_buffer: {}, eps: {:.1f}%\".format(\n",
        "                                                            n_epi, score/print_interval, memory.size(), epsilon*100))\n",
        "            score = 0.0\n",
        "    env.close()"
      ],
      "metadata": {
        "id": "FH3f8V6Q8DiL"
      },
      "id": "FH3f8V6Q8DiL",
      "execution_count": 6,
      "outputs": []
    },
    {
      "cell_type": "code",
      "source": [
        "main()"
      ],
      "metadata": {
        "colab": {
          "base_uri": "https://localhost:8080/",
          "height": 1000
        },
        "id": "EwQeVKV79cKL",
        "outputId": "74fb99dd-86f5-4a45-aaa7-772895b868c7"
      },
      "id": "EwQeVKV79cKL",
      "execution_count": 7,
      "outputs": [
        {
          "output_type": "stream",
          "name": "stdout",
          "text": [
            "n_episode: 20, score: 10.7, n_buffer: 213, eps: 7.9%\n",
            "n_episode: 40, score: 9.7, n_buffer: 407, eps: 7.8%\n",
            "n_episode: 60, score: 9.4, n_buffer: 596, eps: 7.7%\n",
            "n_episode: 80, score: 9.4, n_buffer: 784, eps: 7.6%\n",
            "n_episode: 100, score: 9.2, n_buffer: 967, eps: 7.5%\n",
            "n_episode: 120, score: 10.2, n_buffer: 1172, eps: 7.4%\n",
            "n_episode: 140, score: 9.6, n_buffer: 1364, eps: 7.3%\n",
            "n_episode: 160, score: 9.4, n_buffer: 1552, eps: 7.2%\n",
            "n_episode: 180, score: 9.8, n_buffer: 1747, eps: 7.1%\n",
            "n_episode: 200, score: 9.4, n_buffer: 1935, eps: 7.0%\n"
          ]
        },
        {
          "output_type": "stream",
          "name": "stderr",
          "text": [
            "/usr/local/lib/python3.7/dist-packages/ipykernel_launcher.py:20: UserWarning: Creating a tensor from a list of numpy.ndarrays is extremely slow. Please consider converting the list to a single numpy.ndarray with numpy.array() before converting to a tensor. (Triggered internally at  ../torch/csrc/utils/tensor_new.cpp:210.)\n"
          ]
        },
        {
          "output_type": "stream",
          "name": "stdout",
          "text": [
            "n_episode: 220, score: 9.9, n_buffer: 2133, eps: 6.9%\n",
            "n_episode: 240, score: 10.2, n_buffer: 2336, eps: 6.8%\n",
            "n_episode: 260, score: 11.2, n_buffer: 2560, eps: 6.7%\n",
            "n_episode: 280, score: 12.3, n_buffer: 2806, eps: 6.6%\n",
            "n_episode: 300, score: 13.6, n_buffer: 3077, eps: 6.5%\n",
            "n_episode: 320, score: 25.4, n_buffer: 3584, eps: 6.4%\n",
            "n_episode: 340, score: 81.9, n_buffer: 5222, eps: 6.3%\n",
            "n_episode: 360, score: 85.1, n_buffer: 6924, eps: 6.2%\n",
            "n_episode: 380, score: 144.2, n_buffer: 9807, eps: 6.1%\n",
            "n_episode: 400, score: 163.4, n_buffer: 13075, eps: 6.0%\n",
            "n_episode: 420, score: 222.6, n_buffer: 17526, eps: 5.9%\n",
            "n_episode: 440, score: 220.2, n_buffer: 21931, eps: 5.8%\n",
            "n_episode: 460, score: 237.6, n_buffer: 26683, eps: 5.7%\n",
            "n_episode: 480, score: 104.0, n_buffer: 28763, eps: 5.6%\n",
            "n_episode: 500, score: 73.5, n_buffer: 30234, eps: 5.5%\n",
            "n_episode: 520, score: 111.0, n_buffer: 32453, eps: 5.4%\n",
            "n_episode: 540, score: 138.8, n_buffer: 35230, eps: 5.3%\n",
            "n_episode: 560, score: 201.3, n_buffer: 39256, eps: 5.2%\n",
            "n_episode: 580, score: 162.8, n_buffer: 42513, eps: 5.1%\n",
            "n_episode: 600, score: 172.7, n_buffer: 45966, eps: 5.0%\n",
            "n_episode: 620, score: 292.9, n_buffer: 50000, eps: 4.9%\n",
            "n_episode: 640, score: 247.1, n_buffer: 50000, eps: 4.8%\n",
            "n_episode: 660, score: 288.9, n_buffer: 50000, eps: 4.7%\n",
            "n_episode: 680, score: 251.9, n_buffer: 50000, eps: 4.6%\n",
            "n_episode: 700, score: 302.1, n_buffer: 50000, eps: 4.5%\n",
            "n_episode: 720, score: 309.6, n_buffer: 50000, eps: 4.4%\n",
            "n_episode: 740, score: 280.7, n_buffer: 50000, eps: 4.3%\n",
            "n_episode: 760, score: 286.4, n_buffer: 50000, eps: 4.2%\n",
            "n_episode: 780, score: 182.5, n_buffer: 50000, eps: 4.1%\n",
            "n_episode: 800, score: 281.6, n_buffer: 50000, eps: 4.0%\n",
            "n_episode: 820, score: 296.6, n_buffer: 50000, eps: 3.9%\n",
            "n_episode: 840, score: 306.6, n_buffer: 50000, eps: 3.8%\n",
            "n_episode: 860, score: 256.0, n_buffer: 50000, eps: 3.7%\n",
            "n_episode: 880, score: 266.4, n_buffer: 50000, eps: 3.6%\n",
            "n_episode: 900, score: 219.0, n_buffer: 50000, eps: 3.5%\n",
            "n_episode: 920, score: 184.1, n_buffer: 50000, eps: 3.4%\n",
            "n_episode: 940, score: 286.9, n_buffer: 50000, eps: 3.3%\n",
            "n_episode: 960, score: 233.2, n_buffer: 50000, eps: 3.2%\n",
            "n_episode: 980, score: 302.2, n_buffer: 50000, eps: 3.1%\n",
            "n_episode: 1000, score: 227.6, n_buffer: 50000, eps: 3.0%\n",
            "n_episode: 1020, score: 171.9, n_buffer: 50000, eps: 2.9%\n",
            "n_episode: 1040, score: 201.9, n_buffer: 50000, eps: 2.8%\n",
            "n_episode: 1060, score: 234.4, n_buffer: 50000, eps: 2.7%\n",
            "n_episode: 1080, score: 215.4, n_buffer: 50000, eps: 2.6%\n",
            "n_episode: 1100, score: 165.9, n_buffer: 50000, eps: 2.5%\n",
            "n_episode: 1120, score: 174.8, n_buffer: 50000, eps: 2.4%\n",
            "n_episode: 1140, score: 215.3, n_buffer: 50000, eps: 2.3%\n",
            "n_episode: 1160, score: 274.1, n_buffer: 50000, eps: 2.2%\n",
            "n_episode: 1180, score: 203.7, n_buffer: 50000, eps: 2.1%\n",
            "n_episode: 1200, score: 342.1, n_buffer: 50000, eps: 2.0%\n",
            "n_episode: 1220, score: 197.7, n_buffer: 50000, eps: 1.9%\n",
            "n_episode: 1240, score: 239.6, n_buffer: 50000, eps: 1.8%\n",
            "n_episode: 1260, score: 135.4, n_buffer: 50000, eps: 1.7%\n",
            "n_episode: 1280, score: 193.5, n_buffer: 50000, eps: 1.6%\n",
            "n_episode: 1300, score: 191.3, n_buffer: 50000, eps: 1.5%\n",
            "n_episode: 1320, score: 76.0, n_buffer: 50000, eps: 1.4%\n",
            "n_episode: 1340, score: 170.8, n_buffer: 50000, eps: 1.3%\n",
            "n_episode: 1360, score: 192.9, n_buffer: 50000, eps: 1.2%\n",
            "n_episode: 1380, score: 207.2, n_buffer: 50000, eps: 1.1%\n",
            "n_episode: 1400, score: 273.6, n_buffer: 50000, eps: 1.0%\n",
            "n_episode: 1420, score: 227.1, n_buffer: 50000, eps: 1.0%\n",
            "n_episode: 1440, score: 252.2, n_buffer: 50000, eps: 1.0%\n",
            "n_episode: 1460, score: 252.2, n_buffer: 50000, eps: 1.0%\n",
            "n_episode: 1480, score: 183.2, n_buffer: 50000, eps: 1.0%\n",
            "n_episode: 1500, score: 270.1, n_buffer: 50000, eps: 1.0%\n",
            "n_episode: 1520, score: 256.8, n_buffer: 50000, eps: 1.0%\n",
            "n_episode: 1540, score: 328.4, n_buffer: 50000, eps: 1.0%\n",
            "n_episode: 1560, score: 260.1, n_buffer: 50000, eps: 1.0%\n",
            "n_episode: 1580, score: 255.9, n_buffer: 50000, eps: 1.0%\n",
            "n_episode: 1600, score: 221.2, n_buffer: 50000, eps: 1.0%\n",
            "n_episode: 1620, score: 270.1, n_buffer: 50000, eps: 1.0%\n",
            "n_episode: 1640, score: 272.8, n_buffer: 50000, eps: 1.0%\n",
            "n_episode: 1660, score: 233.8, n_buffer: 50000, eps: 1.0%\n",
            "n_episode: 1680, score: 240.4, n_buffer: 50000, eps: 1.0%\n",
            "n_episode: 1700, score: 171.8, n_buffer: 50000, eps: 1.0%\n",
            "n_episode: 1720, score: 205.1, n_buffer: 50000, eps: 1.0%\n",
            "n_episode: 1740, score: 167.3, n_buffer: 50000, eps: 1.0%\n",
            "n_episode: 1760, score: 255.4, n_buffer: 50000, eps: 1.0%\n",
            "n_episode: 1780, score: 250.7, n_buffer: 50000, eps: 1.0%\n",
            "n_episode: 1800, score: 77.7, n_buffer: 50000, eps: 1.0%\n",
            "n_episode: 1820, score: 163.8, n_buffer: 50000, eps: 1.0%\n",
            "n_episode: 1840, score: 205.4, n_buffer: 50000, eps: 1.0%\n",
            "n_episode: 1860, score: 260.8, n_buffer: 50000, eps: 1.0%\n",
            "n_episode: 1880, score: 122.1, n_buffer: 50000, eps: 1.0%\n",
            "n_episode: 1900, score: 207.8, n_buffer: 50000, eps: 1.0%\n",
            "n_episode: 1920, score: 212.9, n_buffer: 50000, eps: 1.0%\n",
            "n_episode: 1940, score: 200.3, n_buffer: 50000, eps: 1.0%\n",
            "n_episode: 1960, score: 240.9, n_buffer: 50000, eps: 1.0%\n",
            "n_episode: 1980, score: 180.6, n_buffer: 50000, eps: 1.0%\n",
            "n_episode: 2000, score: 183.9, n_buffer: 50000, eps: 1.0%\n",
            "n_episode: 2020, score: 214.9, n_buffer: 50000, eps: 1.0%\n",
            "n_episode: 2040, score: 341.4, n_buffer: 50000, eps: 1.0%\n",
            "n_episode: 2060, score: 299.9, n_buffer: 50000, eps: 1.0%\n",
            "n_episode: 2080, score: 236.7, n_buffer: 50000, eps: 1.0%\n",
            "n_episode: 2100, score: 196.6, n_buffer: 50000, eps: 1.0%\n",
            "n_episode: 2120, score: 207.6, n_buffer: 50000, eps: 1.0%\n",
            "n_episode: 2140, score: 278.2, n_buffer: 50000, eps: 1.0%\n",
            "n_episode: 2160, score: 254.0, n_buffer: 50000, eps: 1.0%\n",
            "n_episode: 2180, score: 244.8, n_buffer: 50000, eps: 1.0%\n",
            "n_episode: 2200, score: 200.3, n_buffer: 50000, eps: 1.0%\n",
            "n_episode: 2220, score: 170.3, n_buffer: 50000, eps: 1.0%\n",
            "n_episode: 2240, score: 255.1, n_buffer: 50000, eps: 1.0%\n",
            "n_episode: 2260, score: 282.1, n_buffer: 50000, eps: 1.0%\n",
            "n_episode: 2280, score: 330.1, n_buffer: 50000, eps: 1.0%\n",
            "n_episode: 2300, score: 290.1, n_buffer: 50000, eps: 1.0%\n",
            "n_episode: 2320, score: 186.8, n_buffer: 50000, eps: 1.0%\n",
            "n_episode: 2340, score: 240.8, n_buffer: 50000, eps: 1.0%\n",
            "n_episode: 2360, score: 166.5, n_buffer: 50000, eps: 1.0%\n",
            "n_episode: 2380, score: 166.8, n_buffer: 50000, eps: 1.0%\n",
            "n_episode: 2400, score: 215.2, n_buffer: 50000, eps: 1.0%\n",
            "n_episode: 2420, score: 368.7, n_buffer: 50000, eps: 1.0%\n",
            "n_episode: 2440, score: 168.1, n_buffer: 50000, eps: 1.0%\n",
            "n_episode: 2460, score: 139.3, n_buffer: 50000, eps: 1.0%\n",
            "n_episode: 2480, score: 143.7, n_buffer: 50000, eps: 1.0%\n",
            "n_episode: 2500, score: 91.8, n_buffer: 50000, eps: 1.0%\n",
            "n_episode: 2520, score: 238.9, n_buffer: 50000, eps: 1.0%\n",
            "n_episode: 2540, score: 334.4, n_buffer: 50000, eps: 1.0%\n",
            "n_episode: 2560, score: 397.4, n_buffer: 50000, eps: 1.0%\n",
            "n_episode: 2580, score: 499.2, n_buffer: 50000, eps: 1.0%\n",
            "n_episode: 2600, score: 415.9, n_buffer: 50000, eps: 1.0%\n",
            "n_episode: 2620, score: 341.1, n_buffer: 50000, eps: 1.0%\n",
            "n_episode: 2640, score: 481.8, n_buffer: 50000, eps: 1.0%\n",
            "n_episode: 2660, score: 426.7, n_buffer: 50000, eps: 1.0%\n",
            "n_episode: 2680, score: 397.6, n_buffer: 50000, eps: 1.0%\n",
            "n_episode: 2700, score: 355.4, n_buffer: 50000, eps: 1.0%\n",
            "n_episode: 2720, score: 312.5, n_buffer: 50000, eps: 1.0%\n",
            "n_episode: 2740, score: 306.2, n_buffer: 50000, eps: 1.0%\n",
            "n_episode: 2760, score: 376.4, n_buffer: 50000, eps: 1.0%\n",
            "n_episode: 2780, score: 392.0, n_buffer: 50000, eps: 1.0%\n",
            "n_episode: 2800, score: 270.4, n_buffer: 50000, eps: 1.0%\n",
            "n_episode: 2820, score: 282.8, n_buffer: 50000, eps: 1.0%\n",
            "n_episode: 2840, score: 200.3, n_buffer: 50000, eps: 1.0%\n",
            "n_episode: 2860, score: 221.1, n_buffer: 50000, eps: 1.0%\n",
            "n_episode: 2880, score: 205.4, n_buffer: 50000, eps: 1.0%\n",
            "n_episode: 2900, score: 270.3, n_buffer: 50000, eps: 1.0%\n",
            "n_episode: 2920, score: 272.5, n_buffer: 50000, eps: 1.0%\n",
            "n_episode: 2940, score: 372.1, n_buffer: 50000, eps: 1.0%\n",
            "n_episode: 2960, score: 312.8, n_buffer: 50000, eps: 1.0%\n",
            "n_episode: 2980, score: 420.8, n_buffer: 50000, eps: 1.0%\n",
            "n_episode: 3000, score: 451.1, n_buffer: 50000, eps: 1.0%\n",
            "n_episode: 3020, score: 451.5, n_buffer: 50000, eps: 1.0%\n",
            "n_episode: 3040, score: 414.1, n_buffer: 50000, eps: 1.0%\n",
            "n_episode: 3060, score: 384.5, n_buffer: 50000, eps: 1.0%\n",
            "n_episode: 3080, score: 440.1, n_buffer: 50000, eps: 1.0%\n",
            "n_episode: 3100, score: 415.3, n_buffer: 50000, eps: 1.0%\n",
            "n_episode: 3120, score: 419.6, n_buffer: 50000, eps: 1.0%\n",
            "n_episode: 3140, score: 462.4, n_buffer: 50000, eps: 1.0%\n",
            "n_episode: 3160, score: 493.1, n_buffer: 50000, eps: 1.0%\n"
          ]
        },
        {
          "output_type": "error",
          "ename": "KeyboardInterrupt",
          "evalue": "ignored",
          "traceback": [
            "\u001b[0;31m---------------------------------------------------------------------------\u001b[0m",
            "\u001b[0;31mKeyboardInterrupt\u001b[0m                         Traceback (most recent call last)",
            "\u001b[0;32m<ipython-input-7-263240bbee7e>\u001b[0m in \u001b[0;36m<module>\u001b[0;34m()\u001b[0m\n\u001b[0;32m----> 1\u001b[0;31m \u001b[0mmain\u001b[0m\u001b[0;34m(\u001b[0m\u001b[0;34m)\u001b[0m\u001b[0;34m\u001b[0m\u001b[0;34m\u001b[0m\u001b[0m\n\u001b[0m",
            "\u001b[0;32m<ipython-input-6-ce399aa8a09c>\u001b[0m in \u001b[0;36mmain\u001b[0;34m()\u001b[0m\n\u001b[1;32m     16\u001b[0m \u001b[0;34m\u001b[0m\u001b[0m\n\u001b[1;32m     17\u001b[0m         \u001b[0;32mwhile\u001b[0m \u001b[0;32mnot\u001b[0m \u001b[0mdone\u001b[0m\u001b[0;34m:\u001b[0m\u001b[0;34m\u001b[0m\u001b[0;34m\u001b[0m\u001b[0m\n\u001b[0;32m---> 18\u001b[0;31m             \u001b[0ma\u001b[0m \u001b[0;34m=\u001b[0m \u001b[0mq\u001b[0m\u001b[0;34m.\u001b[0m\u001b[0msample_action\u001b[0m\u001b[0;34m(\u001b[0m\u001b[0mtorch\u001b[0m\u001b[0;34m.\u001b[0m\u001b[0mfrom_numpy\u001b[0m\u001b[0;34m(\u001b[0m\u001b[0ms\u001b[0m\u001b[0;34m)\u001b[0m\u001b[0;34m.\u001b[0m\u001b[0mfloat\u001b[0m\u001b[0;34m(\u001b[0m\u001b[0;34m)\u001b[0m\u001b[0;34m,\u001b[0m \u001b[0mepsilon\u001b[0m\u001b[0;34m)\u001b[0m\u001b[0;34m\u001b[0m\u001b[0;34m\u001b[0m\u001b[0m\n\u001b[0m\u001b[1;32m     19\u001b[0m             \u001b[0ms_prime\u001b[0m\u001b[0;34m,\u001b[0m \u001b[0mr\u001b[0m\u001b[0;34m,\u001b[0m \u001b[0mdone\u001b[0m\u001b[0;34m,\u001b[0m \u001b[0minfo\u001b[0m \u001b[0;34m=\u001b[0m \u001b[0menv\u001b[0m\u001b[0;34m.\u001b[0m\u001b[0mstep\u001b[0m\u001b[0;34m(\u001b[0m\u001b[0ma\u001b[0m\u001b[0;34m)\u001b[0m\u001b[0;34m\u001b[0m\u001b[0;34m\u001b[0m\u001b[0m\n\u001b[1;32m     20\u001b[0m             \u001b[0mdone_mask\u001b[0m \u001b[0;34m=\u001b[0m \u001b[0;36m0.0\u001b[0m \u001b[0;32mif\u001b[0m \u001b[0mdone\u001b[0m \u001b[0;32melse\u001b[0m \u001b[0;36m1.0\u001b[0m\u001b[0;34m\u001b[0m\u001b[0;34m\u001b[0m\u001b[0m\n",
            "\u001b[0;32m<ipython-input-4-39ec6d4476a5>\u001b[0m in \u001b[0;36msample_action\u001b[0;34m(self, obs, epsilon)\u001b[0m\n\u001b[1;32m     13\u001b[0m \u001b[0;34m\u001b[0m\u001b[0m\n\u001b[1;32m     14\u001b[0m   \u001b[0;32mdef\u001b[0m \u001b[0msample_action\u001b[0m\u001b[0;34m(\u001b[0m\u001b[0mself\u001b[0m\u001b[0;34m,\u001b[0m \u001b[0mobs\u001b[0m\u001b[0;34m,\u001b[0m \u001b[0mepsilon\u001b[0m\u001b[0;34m)\u001b[0m\u001b[0;34m:\u001b[0m\u001b[0;34m\u001b[0m\u001b[0;34m\u001b[0m\u001b[0m\n\u001b[0;32m---> 15\u001b[0;31m     \u001b[0mout\u001b[0m \u001b[0;34m=\u001b[0m \u001b[0mself\u001b[0m\u001b[0;34m.\u001b[0m\u001b[0mforward\u001b[0m\u001b[0;34m(\u001b[0m\u001b[0mobs\u001b[0m\u001b[0;34m)\u001b[0m\u001b[0;34m\u001b[0m\u001b[0;34m\u001b[0m\u001b[0m\n\u001b[0m\u001b[1;32m     16\u001b[0m     \u001b[0mcoin\u001b[0m \u001b[0;34m=\u001b[0m \u001b[0mrandom\u001b[0m\u001b[0;34m.\u001b[0m\u001b[0mrandom\u001b[0m\u001b[0;34m(\u001b[0m\u001b[0;34m)\u001b[0m\u001b[0;34m\u001b[0m\u001b[0;34m\u001b[0m\u001b[0m\n\u001b[1;32m     17\u001b[0m     \u001b[0;32mif\u001b[0m \u001b[0mcoin\u001b[0m \u001b[0;34m<\u001b[0m \u001b[0mepsilon\u001b[0m\u001b[0;34m:\u001b[0m\u001b[0;34m\u001b[0m\u001b[0;34m\u001b[0m\u001b[0m\n",
            "\u001b[0;32m<ipython-input-4-39ec6d4476a5>\u001b[0m in \u001b[0;36mforward\u001b[0;34m(self, x)\u001b[0m\n\u001b[1;32m      7\u001b[0m \u001b[0;34m\u001b[0m\u001b[0m\n\u001b[1;32m      8\u001b[0m   \u001b[0;32mdef\u001b[0m \u001b[0mforward\u001b[0m\u001b[0;34m(\u001b[0m\u001b[0mself\u001b[0m\u001b[0;34m,\u001b[0m \u001b[0mx\u001b[0m\u001b[0;34m)\u001b[0m\u001b[0;34m:\u001b[0m\u001b[0;34m\u001b[0m\u001b[0;34m\u001b[0m\u001b[0m\n\u001b[0;32m----> 9\u001b[0;31m     \u001b[0mx\u001b[0m \u001b[0;34m=\u001b[0m \u001b[0mF\u001b[0m\u001b[0;34m.\u001b[0m\u001b[0mrelu\u001b[0m\u001b[0;34m(\u001b[0m\u001b[0mself\u001b[0m\u001b[0;34m.\u001b[0m\u001b[0mfc1\u001b[0m\u001b[0;34m(\u001b[0m\u001b[0mx\u001b[0m\u001b[0;34m)\u001b[0m\u001b[0;34m)\u001b[0m\u001b[0;34m\u001b[0m\u001b[0;34m\u001b[0m\u001b[0m\n\u001b[0m\u001b[1;32m     10\u001b[0m     \u001b[0mx\u001b[0m \u001b[0;34m=\u001b[0m \u001b[0mF\u001b[0m\u001b[0;34m.\u001b[0m\u001b[0mrelu\u001b[0m\u001b[0;34m(\u001b[0m\u001b[0mself\u001b[0m\u001b[0;34m.\u001b[0m\u001b[0mfc2\u001b[0m\u001b[0;34m(\u001b[0m\u001b[0mx\u001b[0m\u001b[0;34m)\u001b[0m\u001b[0;34m)\u001b[0m\u001b[0;34m\u001b[0m\u001b[0;34m\u001b[0m\u001b[0m\n\u001b[1;32m     11\u001b[0m     \u001b[0mx\u001b[0m \u001b[0;34m=\u001b[0m \u001b[0mself\u001b[0m\u001b[0;34m.\u001b[0m\u001b[0mfc3\u001b[0m\u001b[0;34m(\u001b[0m\u001b[0mx\u001b[0m\u001b[0;34m)\u001b[0m\u001b[0;34m\u001b[0m\u001b[0;34m\u001b[0m\u001b[0m\n",
            "\u001b[0;32m/usr/local/lib/python3.7/dist-packages/torch/nn/modules/module.py\u001b[0m in \u001b[0;36m_call_impl\u001b[0;34m(self, *input, **kwargs)\u001b[0m\n\u001b[1;32m   1108\u001b[0m         if not (self._backward_hooks or self._forward_hooks or self._forward_pre_hooks or _global_backward_hooks\n\u001b[1;32m   1109\u001b[0m                 or _global_forward_hooks or _global_forward_pre_hooks):\n\u001b[0;32m-> 1110\u001b[0;31m             \u001b[0;32mreturn\u001b[0m \u001b[0mforward_call\u001b[0m\u001b[0;34m(\u001b[0m\u001b[0;34m*\u001b[0m\u001b[0minput\u001b[0m\u001b[0;34m,\u001b[0m \u001b[0;34m**\u001b[0m\u001b[0mkwargs\u001b[0m\u001b[0;34m)\u001b[0m\u001b[0;34m\u001b[0m\u001b[0;34m\u001b[0m\u001b[0m\n\u001b[0m\u001b[1;32m   1111\u001b[0m         \u001b[0;31m# Do not call functions when jit is used\u001b[0m\u001b[0;34m\u001b[0m\u001b[0;34m\u001b[0m\u001b[0;34m\u001b[0m\u001b[0m\n\u001b[1;32m   1112\u001b[0m         \u001b[0mfull_backward_hooks\u001b[0m\u001b[0;34m,\u001b[0m \u001b[0mnon_full_backward_hooks\u001b[0m \u001b[0;34m=\u001b[0m \u001b[0;34m[\u001b[0m\u001b[0;34m]\u001b[0m\u001b[0;34m,\u001b[0m \u001b[0;34m[\u001b[0m\u001b[0;34m]\u001b[0m\u001b[0;34m\u001b[0m\u001b[0;34m\u001b[0m\u001b[0m\n",
            "\u001b[0;32m/usr/local/lib/python3.7/dist-packages/torch/nn/modules/linear.py\u001b[0m in \u001b[0;36mforward\u001b[0;34m(self, input)\u001b[0m\n\u001b[1;32m    101\u001b[0m \u001b[0;34m\u001b[0m\u001b[0m\n\u001b[1;32m    102\u001b[0m     \u001b[0;32mdef\u001b[0m \u001b[0mforward\u001b[0m\u001b[0;34m(\u001b[0m\u001b[0mself\u001b[0m\u001b[0;34m,\u001b[0m \u001b[0minput\u001b[0m\u001b[0;34m:\u001b[0m \u001b[0mTensor\u001b[0m\u001b[0;34m)\u001b[0m \u001b[0;34m->\u001b[0m \u001b[0mTensor\u001b[0m\u001b[0;34m:\u001b[0m\u001b[0;34m\u001b[0m\u001b[0;34m\u001b[0m\u001b[0m\n\u001b[0;32m--> 103\u001b[0;31m         \u001b[0;32mreturn\u001b[0m \u001b[0mF\u001b[0m\u001b[0;34m.\u001b[0m\u001b[0mlinear\u001b[0m\u001b[0;34m(\u001b[0m\u001b[0minput\u001b[0m\u001b[0;34m,\u001b[0m \u001b[0mself\u001b[0m\u001b[0;34m.\u001b[0m\u001b[0mweight\u001b[0m\u001b[0;34m,\u001b[0m \u001b[0mself\u001b[0m\u001b[0;34m.\u001b[0m\u001b[0mbias\u001b[0m\u001b[0;34m)\u001b[0m\u001b[0;34m\u001b[0m\u001b[0;34m\u001b[0m\u001b[0m\n\u001b[0m\u001b[1;32m    104\u001b[0m \u001b[0;34m\u001b[0m\u001b[0m\n\u001b[1;32m    105\u001b[0m     \u001b[0;32mdef\u001b[0m \u001b[0mextra_repr\u001b[0m\u001b[0;34m(\u001b[0m\u001b[0mself\u001b[0m\u001b[0;34m)\u001b[0m \u001b[0;34m->\u001b[0m \u001b[0mstr\u001b[0m\u001b[0;34m:\u001b[0m\u001b[0;34m\u001b[0m\u001b[0;34m\u001b[0m\u001b[0m\n",
            "\u001b[0;31mKeyboardInterrupt\u001b[0m: "
          ]
        }
      ]
    },
    {
      "cell_type": "code",
      "source": [
        ""
      ],
      "metadata": {
        "id": "-W9bYBSm9ekh"
      },
      "id": "-W9bYBSm9ekh",
      "execution_count": null,
      "outputs": []
    }
  ],
  "metadata": {
    "kernelspec": {
      "display_name": "Python 3 (ipykernel)",
      "language": "python",
      "name": "python3"
    },
    "language_info": {
      "codemirror_mode": {
        "name": "ipython",
        "version": 3
      },
      "file_extension": ".py",
      "mimetype": "text/x-python",
      "name": "python",
      "nbconvert_exporter": "python",
      "pygments_lexer": "ipython3",
      "version": "3.9.7"
    },
    "colab": {
      "name": "08_implement_DQN.ipynb",
      "provenance": [],
      "collapsed_sections": [],
      "include_colab_link": true
    },
    "accelerator": "GPU",
    "gpuClass": "standard"
  },
  "nbformat": 4,
  "nbformat_minor": 5
}