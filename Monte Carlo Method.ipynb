{
 "cells": [
  {
   "cell_type": "markdown",
   "id": "19210066",
   "metadata": {},
   "source": [
    "# 몬테카를로 학습 구현"
   ]
  },
  {
   "cell_type": "markdown",
   "id": "0eb28e62",
   "metadata": {},
   "source": [
    "실제 몬테카를로 prediction을 구현해보자. 목표는 그리드 월드에서 4방향 랜덤 정책의 상태별 가치를 구하는 것이다. 이를 위해 다음 4가지 요소를 구현한다.  \n",
    "* 환경: 에이전트의 액션을 받아 상태변이를 일으키고, 보상을 줌\n",
    "* 에이전트: 4방향 랜덤 정책을 이용해 움직임\n",
    "* 경험 쌓는 부분: 에이전트가 환경과 상호작용하여 데이터를 축적\n",
    "* 학습하는 부분: 쌓인 경험을 통해 테이블을 업데이트\n",
    "\n",
    "환경에 특별한 확률적 요소는 없으며, 스텝마다 -1의 보상을 받는다."
   ]
  },
  {
   "cell_type": "markdown",
   "id": "e7f192ba",
   "metadata": {},
   "source": [
    "## 라이브러리 import"
   ]
  },
  {
   "cell_type": "code",
   "execution_count": 1,
   "id": "fc18171a",
   "metadata": {},
   "outputs": [],
   "source": [
    "import random"
   ]
  },
  {
   "cell_type": "markdown",
   "id": "63b4b2b4",
   "metadata": {},
   "source": [
    "## Grid World 클래스"
   ]
  },
  {
   "cell_type": "code",
   "execution_count": 8,
   "id": "06432975",
   "metadata": {},
   "outputs": [],
   "source": [
    "class GridWorld():\n",
    "    def __init__(self):\n",
    "        self.x = 0\n",
    "        self.y = 0\n",
    "    \n",
    "    def step(self, a):\n",
    "        if a == 0:\n",
    "            self.move_right()\n",
    "        elif a == 1:\n",
    "            self.move_left()\n",
    "        elif a == 2:\n",
    "            self.move_up()\n",
    "        elif a == 3:\n",
    "            self.move_down()\n",
    "        \n",
    "        reward = -1\n",
    "        done = self.is_done()\n",
    "        return (self.x, self.y), reward, done\n",
    "\n",
    "    def move_right(self):\n",
    "        self.y += 1\n",
    "        if (self.y > 3):\n",
    "            self.y = 3\n",
    "        \n",
    "    def move_left(self):\n",
    "        self.y -= 1\n",
    "        if (self.y < 0):\n",
    "            self.y = 0\n",
    "    \n",
    "    def move_up(self):\n",
    "        self.x -= 1\n",
    "        if self.x < 0:\n",
    "            self.x = 0\n",
    "            \n",
    "    def move_down(self):\n",
    "        self.x += 1\n",
    "        if(self.x > 3):\n",
    "            self.x = 3\n",
    "    \n",
    "    def is_done(self):\n",
    "        if self.x == 3 and self.y == 3:\n",
    "            return True\n",
    "        else:\n",
    "            return False\n",
    "        \n",
    "    def get_state(self):\n",
    "        return (self.x, self.y)\n",
    "    \n",
    "    def reset(self):\n",
    "        self.x = 0\n",
    "        self.y = 0\n",
    "        return (self.x, self.y)"
   ]
  },
  {
   "cell_type": "markdown",
   "id": "26e71cd2",
   "metadata": {},
   "source": [
    "## Agent 클래스"
   ]
  },
  {
   "cell_type": "code",
   "execution_count": 11,
   "id": "e8b8e8f2",
   "metadata": {},
   "outputs": [],
   "source": [
    "class Agent():\n",
    "    def __init__(self):\n",
    "        pass\n",
    "    \n",
    "    def select_action(self):\n",
    "        coin = random.random()\n",
    "        if coin < 0.25:\n",
    "            action = 0\n",
    "        elif coin < 0.5:\n",
    "            action = 1\n",
    "        elif coin < 0.75:\n",
    "            action = 2\n",
    "        else:\n",
    "            action = 3\n",
    "        return action"
   ]
  },
  {
   "cell_type": "markdown",
   "id": "8b922f0d",
   "metadata": {},
   "source": [
    "## Main method"
   ]
  },
  {
   "cell_type": "code",
   "execution_count": 16,
   "id": "4ffc67fd",
   "metadata": {},
   "outputs": [],
   "source": [
    "def main():\n",
    "    env = GridWorld()\n",
    "    agent = Agent()\n",
    "    data = [[0,0,0,0],[0,0,0,0],[0,0,0,0],[0,0,0,0]] # 테이블 초기화\n",
    "    gamma = 1.0\n",
    "    alpha = 0.0001\n",
    "    \n",
    "    for k in range(50000): # 총 5만번의 에피소드 진행\n",
    "        done = False\n",
    "        history = []\n",
    "        while not done:\n",
    "            action = agent.select_action()\n",
    "            (x, y), reward, done = env.step(action)\n",
    "            history.append((x,y,reward))\n",
    "        env.reset()\n",
    "        \n",
    "        # 에피소드가 끝나면 해당 데이터를 이용해 테이블을 업데이트\n",
    "        cum_reward = 0\n",
    "        for transition in history[:-1]:\n",
    "            # 방문했던 상태들을 뒤에서부터 보면서 차례대로 리턴을 계산\n",
    "            x, y, reward = transition\n",
    "            data[x][y] = data[x][y] + alpha * (cum_reward - data[x][y])\n",
    "            cum_reward = cum_reward + gamma * reward\n",
    "            \n",
    "    # 학습이 끝난 뒤 데이터 출력\n",
    "    for row in data:\n",
    "        print(row)"
   ]
  },
  {
   "cell_type": "code",
   "execution_count": 17,
   "id": "e12877ab",
   "metadata": {},
   "outputs": [
    {
     "name": "stdout",
     "output_type": "stream",
     "text": [
      "[-37.58329000095512, -42.93231412093926, -50.50630628672253, -54.07970417537915]\n",
      "[-43.04771291811459, -48.544822610766985, -53.41234727773559, -56.870519850280175]\n",
      "[-50.44705253526091, -53.28723610920796, -56.049193708760804, -58.233355749196726]\n",
      "[-54.35467601544412, -55.62130493708832, -57.296167223535285, 0]\n"
     ]
    }
   ],
   "source": [
    "main()"
   ]
  },
  {
   "cell_type": "code",
   "execution_count": null,
   "id": "34cb68a1",
   "metadata": {},
   "outputs": [],
   "source": []
  }
 ],
 "metadata": {
  "kernelspec": {
   "display_name": "Python 3 (ipykernel)",
   "language": "python",
   "name": "python3"
  },
  "language_info": {
   "codemirror_mode": {
    "name": "ipython",
    "version": 3
   },
   "file_extension": ".py",
   "mimetype": "text/x-python",
   "name": "python",
   "nbconvert_exporter": "python",
   "pygments_lexer": "ipython3",
   "version": "3.9.7"
  }
 },
 "nbformat": 4,
 "nbformat_minor": 5
}
