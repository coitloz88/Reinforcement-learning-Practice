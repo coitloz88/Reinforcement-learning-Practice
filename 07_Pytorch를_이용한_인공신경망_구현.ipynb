{
  "cells": [
    {
      "cell_type": "markdown",
      "id": "71ef1df1",
      "metadata": {
        "id": "71ef1df1"
      },
      "source": [
        "# 이론적 배경\n",
        "## 신경망 학습: Gradient Descent\n",
        "임의로 정한 함수 $f$가 있고, 이 함수의 파라미터를 $\\omega$라고 할때, 함수를 $f_{\\omega}$ 형태로 표현할 수 있다.\n",
        "또한, n개의 데이터는 (input, answer)의 형태로 이루어져있다.\n",
        "$f_{\\omega}$는 처음에는 데이터와 무관한 함수이지만 점점 데이터가 주는 정답과 $f_{\\omega}$의 아웃풋 사이 차이를 최소화하도록 $\\omega$가 업데이트된다. 조금씩 업데이트를 반복하며 $f_{\\omega}$는 점점 데이터와 가깝게 지나가는 함수가 된다. 이러한 학습 과정에서 그라디언트 기반 방법을 사용한다.\n",
        "\n",
        "# Pytorch를 활용한 신경망 학습 구현\n",
        "실제 뉴럴넷은 함수가 매우 복잡하므로 직접 일일이 편미분을 구하기 힘들기 때문에, `tensorflow`나 `pytorch`의 **자동 미분** 라이브러리를 사용한다. 해당 라이브러리는 **역전파(Back propagation)** 알고리즘을 통해 복잡한 함수의 그라디언트를 매우 효율적이고 빠르게 계산한다.\n",
        "역전파 알고리즘은 N개의 파라미터가 있을 때 N번 편미분하지 않고, 뒤에서부터 중간중간 미분 값을 캐싱했다가 재사용하여 효율적으로 그라디언트를 계산하는 방법론이다.\n",
        "\n",
        "이제 `pytorch`로 신경망 학습을 구현해보자. 데이터를 생성해내는 함수 $F(x)$는 다음과 같다.\n",
        "<center>\n",
        "    $F(x) = cos(1.5 \\pi * x) + x + \\epsilon, \\qquad \\epsilon \\sim U(-0.2, 0.2)$\n",
        "</center>\n",
        "단, 해당 함수는 실제로는 모르는 함수이며, 해당 함수가 만들어내는 데이터만 관찰 가능하다. 즉, 실제 세계와 마찬가지로 데이터를 만들어내는 본질적인 함수는 알 수 없지만 그것을 근사하는 것이 최종적인 목적이다.\n",
        "\n",
        "피팅할 뉴럴 네트워크는 `Input → Hidden Layer1 → Hidden Layer2 → Hidden Layer3 → Output`과 같은 임의의 뉴럴넷 $f_{\\omega}$를 사용한다. 각 레이어에는 $ReLU$라는 **활성 함수(Activation function)**가 포함되어 있다."
      ]
    },
    {
      "cell_type": "markdown",
      "id": "0280866e",
      "metadata": {
        "id": "0280866e"
      },
      "source": [
        " ## 라이브러리 import"
      ]
    },
    {
      "cell_type": "code",
      "execution_count": 4,
      "id": "d4dbaae2",
      "metadata": {
        "id": "d4dbaae2"
      },
      "outputs": [],
      "source": [
        "import torch\n",
        "import torch.nn as nn\n",
        "import torch.nn.functional as F\n",
        "import torch.optim as optim"
      ]
    },
    {
      "cell_type": "code",
      "source": [
        "import numpy as np\n",
        "import matplotlib.pyplot as plt"
      ],
      "metadata": {
        "id": "wkF5fGy4WUCZ"
      },
      "id": "wkF5fGy4WUCZ",
      "execution_count": 5,
      "outputs": []
    },
    {
      "cell_type": "markdown",
      "source": [
        "## Model 클래스"
      ],
      "metadata": {
        "id": "C9GDVMy6WZ6k"
      },
      "id": "C9GDVMy6WZ6k"
    },
    {
      "cell_type": "code",
      "source": [
        "class Model(nn.Module):\n",
        "  def __init__(self):\n",
        "    super(Model, self).__init__()\n",
        "    self.fc1 = nn.Linear(1, 128)\n",
        "    self.fc2 = nn.Linear(128, 128)\n",
        "    self.fc3 = nn.Linear(128, 128)\n",
        "    self.fc4 = nn.Linear(128, 1, bias = False)\n",
        "  \n",
        "  def forward(self, x):\n",
        "    x = F.relu(self.fc1(x))\n",
        "    x = F.relu(self.fc2(x))\n",
        "    x = F.relu(self.fc3(x))\n",
        "    x = self.fc4(x)\n",
        "    return x"
      ],
      "metadata": {
        "id": "jLcQdT4AWd8P"
      },
      "id": "jLcQdT4AWd8P",
      "execution_count": 6,
      "outputs": []
    },
    {
      "cell_type": "markdown",
      "source": [
        "## 데이터 생성 함수 $F(x)$"
      ],
      "metadata": {
        "id": "_7FhlSwgX-_m"
      },
      "id": "_7FhlSwgX-_m"
    },
    {
      "cell_type": "code",
      "source": [
        "def true_fun(X):\n",
        "  noise = np.random.rand(X.shape[0]) * 0.4 - 0.2\n",
        "  return np.cos(1.5 * np.pi * X) + X + noise"
      ],
      "metadata": {
        "id": "wTyB9FjnYFPd"
      },
      "id": "wTyB9FjnYFPd",
      "execution_count": 7,
      "outputs": []
    },
    {
      "cell_type": "markdown",
      "source": [
        "## Plotting 함수\n"
      ],
      "metadata": {
        "id": "F8knmM-AYTJh"
      },
      "id": "F8knmM-AYTJh"
    },
    {
      "cell_type": "code",
      "source": [
        "def plot_results(model):\n",
        "  x = np.linspace(0, 5, 100)\n",
        "  input_x = torch.from_numpy(x). float ().unsqueeze(1)\n",
        "  plt.plot(x, true_fun(x), label = \"Truth\")\n",
        "  plt.plot(x, model(input_x).detach().numpy(), label = \"Prediction\")\n",
        "  plt.legend(loc = 'lower right', fontsize = 15)\n",
        "  plt.xlim((0, 5))\n",
        "  plt.ylim((-1, 5))\n",
        "  plt.grid()"
      ],
      "metadata": {
        "id": "aRSRc6kkYRQu"
      },
      "id": "aRSRc6kkYRQu",
      "execution_count": 8,
      "outputs": []
    },
    {
      "cell_type": "markdown",
      "source": [
        "## Main 함수"
      ],
      "metadata": {
        "id": "jrS1JAXcYRy4"
      },
      "id": "jrS1JAXcYRy4"
    },
    {
      "cell_type": "code",
      "source": [
        "def main():\n",
        "  data_x = np.random.rand(10000) * 5\n",
        "  # 0~5 사이 숫자 1만개를 샘플링하여 인풋으로 사용\n",
        "  model = Model()\n",
        "  optimizer = optim.Adam(model.parameters(), lr = 0.001)\n",
        "\n",
        "  for step in range(20000):\n",
        "    batch_x = np.random.choice(data_x, 32)\n",
        "    # 랜덤하게 뽑힌 32개의 데이터로 mini-batch를 구성\n",
        "    batch_x_tensor = torch.from_numpy(batch_x). float().unsqueeze(1)\n",
        "    pred = model(batch_x_tensor)\n",
        "\n",
        "    batch_y = true_fun(batch_x)\n",
        "    truth = torch.from_numpy(batch_y). float().unsqueeze(1)\n",
        "    loss = F.mse_loss(pred, truth) # 손실 함수인 MSE를 계산\n",
        "\n",
        "    optimizer.zero_grad()\n",
        "    loss.mean().backward() # 역전파를 통한 그래디언트 계산\n",
        "    optimizer.step() # 실제 파라미터 업데이트\n",
        "\n",
        "  plot_results(model)"
      ],
      "metadata": {
        "id": "FF0mbstmZAsf"
      },
      "id": "FF0mbstmZAsf",
      "execution_count": 11,
      "outputs": []
    },
    {
      "cell_type": "code",
      "source": [
        "main()"
      ],
      "metadata": {
        "colab": {
          "base_uri": "https://localhost:8080/",
          "height": 269
        },
        "id": "9Dz0ypUZaCHG",
        "outputId": "367bb7aa-8a17-42ad-ebc9-9ebaea774495"
      },
      "id": "9Dz0ypUZaCHG",
      "execution_count": 12,
      "outputs": [
        {
          "output_type": "display_data",
          "data": {
            "text/plain": [
              "<Figure size 432x288 with 1 Axes>"
            ],
            "image/png": "[encoded data removed]"
          },
          "metadata": {
            "needs_background": "light"
          }
        }
      ]
    },
    {
      "cell_type": "code",
      "source": [
        ""
      ],
      "metadata": {
        "id": "AVHnV6B4bf0H"
      },
      "id": "AVHnV6B4bf0H",
      "execution_count": null,
      "outputs": []
    }
  ],
  "metadata": {
    "kernelspec": {
      "display_name": "Python 3 (ipykernel)",
      "language": "python",
      "name": "python3"
    },
    "language_info": {
      "codemirror_mode": {
        "name": "ipython",
        "version": 3
      },
      "file_extension": ".py",
      "mimetype": "text/x-python",
      "name": "python",
      "nbconvert_exporter": "python",
      "pygments_lexer": "ipython3",
      "version": "3.9.7"
    },
    "colab": {
      "name": "07. Pytorch를 이용한 인공신경망 구현.ipynb",
      "provenance": [],
      "collapsed_sections": []
    },
    "accelerator": "GPU"
  },
  "nbformat": 4,
  "nbformat_minor": 5
}